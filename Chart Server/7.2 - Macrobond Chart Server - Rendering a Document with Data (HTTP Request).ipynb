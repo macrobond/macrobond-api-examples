{
 "cells": [
  {
   "attachments": {},
   "cell_type": "markdown",
   "metadata": {},
   "source": [
    "# 7.1 - Macrobond Chart Server - Rendering a chart as an image\n",
    "\n",
    "*How to use Macrobond Chart Server functionality to render charts extracted from documents*\n",
    "\n",
    "This notebook aims to provide examples of how to use Macrobond's Chart Server API to render a chart defined in a Macrobond document as an image.\n",
    "\n",
    "We will focus here on using the Macrobond Chart Library which is a public folder any Macrobond's subscriber can access. It contains, among other things, the Chart of the Week sub-directory.\n",
    "\n",
    "Please, refer to our technical documentation to install Chart Server and insert the credentials provided by your Macrobond's representative:\n",
    "https://help.macrobond.com/technical-information/the-macrobond-chart-server/\n",
    "\n",
    "*Full error handling is omitted for brevity*\n",
    "\n",
    "`Note that this notebook is using a Macrobond-setup internal server: https://appt.macrobondfinancial.com. This notebook will not work on the client's side as plug-and-play. Client will need to setup their own server communicating with Macrobond's URLs. Please, refer to the above documentation for more information.`"
   ]
  },
  {
   "cell_type": "markdown",
   "metadata": {},
   "source": [
    "***\n",
    "\n",
    "## Importing packages\n",
    "\n",
    "This notebook requires Python Image Library - pillow, please run pip install pillow if you don't have it installed already."
   ]
  },
  {
   "cell_type": "code",
   "execution_count": null,
   "metadata": {},
   "outputs": [],
   "source": [
    "import json\n",
    "import pandas as pd\n",
    "from io import BytesIO\n",
    "from PIL import Image\n",
    "from urllib.request import urlopen\n",
    "\n",
    "pd.options.display.max_colwidth = 1000"
   ]
  },
  {
   "cell_type": "markdown",
   "metadata": {},
   "source": [
    "***\n",
    "\n",
    "## Listing the directories\n",
    "\n",
    "Let's first retrieve the list of directories where documents are stored.\n",
    "Note that in the examples we are using an internal server. You should replace the root URL with the one for your Chart Server as per the documentation: https://help.macrobond.com/technical-information/the-macrobond-chart-server/ under section 'Addresses of Macrobond servers' after you have successfully authenticated.\n",
    "\n",
    "The 'listdirs' returns a list of folders present in a specified directory. If no parameter is specified, the root folders will be listed. This function, combined with the 'listfiles', can be used to implement user interface for browsing the directories. Returned output is in JSON format."
   ]
  },
  {
   "cell_type": "code",
   "execution_count": null,
   "metadata": {},
   "outputs": [],
   "source": [
    "json_url = urlopen(\"https://renderdemointernal.mbnd.eu/chartserver/listdirs?\")\n",
    "data = json.loads(json_url.read())\n",
    "\n",
    "df = pd.DataFrame(data)\n",
    "df"
   ]
  },
  {
   "attachments": {},
   "cell_type": "markdown",
   "metadata": {},
   "source": [
    "In the examples below, we are use the path for the Macrobond Chart Library. This is the repository where you can find the 'Charts of the Week' Macrobond publishes every Friday."
   ]
  },
  {
   "cell_type": "code",
   "execution_count": null,
   "metadata": {},
   "outputs": [],
   "source": [
    "json_url = urlopen(\n",
    "    \"https://renderdemointernal.mbnd.eu/chartserver/listdirs?path=macrobond://macrobondfilestore/macrobond/filestore/\"\n",
    ")\n",
    "data = json.loads(json_url.read())\n",
    "\n",
    "df = pd.DataFrame(data)\n",
    "df"
   ]
  },
  {
   "cell_type": "markdown",
   "metadata": {},
   "source": [
    "Sub-directories can be listed for directories where HasChildren is true by calling listdirs with the specified Path. \n",
    "\n",
    "Let's now focus on the Charts of the Week directory and use the Path found in the dataframe above into the query."
   ]
  },
  {
   "cell_type": "code",
   "execution_count": null,
   "metadata": {},
   "outputs": [],
   "source": [
    "json_url = urlopen(\n",
    "    \"https://renderdemointernal.mbnd.eu/chartserver/listdirs?path=macrobond://macrobondfilestore/macrobond/filestore/2.%20Publications/\"\n",
    ")\n",
    "data = json.loads(json_url.read())\n",
    "\n",
    "df = pd.DataFrame(data)\n",
    "df"
   ]
  },
  {
   "cell_type": "code",
   "execution_count": null,
   "metadata": {},
   "outputs": [],
   "source": [
    "json_url = urlopen(\n",
    "    \"https://renderdemointernal.mbnd.eu/chartserver/listdirs?path=macrobond://macrobondfilestore/macrobond/filestore/2.%20Publications/Archive/\"\n",
    ")\n",
    "data = json.loads(json_url.read())\n",
    "\n",
    "df = pd.DataFrame(data)\n",
    "df"
   ]
  },
  {
   "cell_type": "code",
   "execution_count": null,
   "metadata": {},
   "outputs": [],
   "source": [
    "json_url = urlopen(\n",
    "    \"https://renderdemointernal.mbnd.eu/chartserver/listdirs?path=macrobond://macrobondfilestore/macrobond/filestore/2.%20Publications/Archive/Charts%20of%20the%20week/\"\n",
    ")\n",
    "data = json.loads(json_url.read())\n",
    "\n",
    "df = pd.DataFrame(data)\n",
    "df"
   ]
  },
  {
   "cell_type": "code",
   "execution_count": null,
   "metadata": {},
   "outputs": [],
   "source": [
    "json_url = urlopen(\n",
    "    \"https://renderdemointernal.mbnd.eu/chartserver/listdirs?path=macrobond://macrobondfilestore/macrobond/filestore/2.%20Publications/Archive/Charts%20of%20the%20week/2023/\"\n",
    ")\n",
    "data = json.loads(json_url.read())\n",
    "\n",
    "df = pd.DataFrame(data)\n",
    "df"
   ]
  },
  {
   "cell_type": "code",
   "execution_count": null,
   "metadata": {},
   "outputs": [],
   "source": [
    "json_url = urlopen(\n",
    "    \"https://renderdemointernal.mbnd.eu/chartserver/listdirs?path=macrobond://remotepublicfilestore/macrobond/filestore/2.%20Publications/Archive/Charts%20of%20the%20week/2023/01%20January/\"\n",
    ")\n",
    "data = json.loads(json_url.read())\n",
    "\n",
    "df = pd.DataFrame(data)\n",
    "df"
   ]
  },
  {
   "cell_type": "markdown",
   "metadata": {},
   "source": [
    "Now that HasChildren is not true, then this directory can contain files and the path can be passed to listfiles in order to list the files. \n",
    "\n",
    "Let's list the available documents we can render."
   ]
  },
  {
   "cell_type": "markdown",
   "metadata": {},
   "source": [
    "***\n",
    "\n",
    "## List files\n",
    "The `listfiles` returns files located in specified directory. Output is in JSON format. "
   ]
  },
  {
   "cell_type": "code",
   "execution_count": null,
   "metadata": {},
   "outputs": [],
   "source": [
    "json_url = urlopen(\n",
    "    \"https://renderdemointernal.mbnd.eu/chartserver/listfiles?path=macrobond://macrobondfilestore/macrobond/filestore/2.%20Publications/Archive/Charts%20of%20the%20week/2023/01%20January/13th/&ext=.mbnd \"\n",
    ")\n",
    "data = json.loads(json_url.read())\n",
    "\n",
    "df2 = pd.DataFrame(data)\n",
    "df2"
   ]
  },
  {
   "cell_type": "markdown",
   "metadata": {},
   "source": [
    "Next, lets check the detailed info of a document that we want to render"
   ]
  },
  {
   "cell_type": "markdown",
   "metadata": {},
   "source": [
    "***\n",
    "\n",
    "## Document Information\n",
    "\n",
    "The `documentinfo` call returns all the available charts (presentations) of the document you have selected, along with the metadata of each chart. "
   ]
  },
  {
   "cell_type": "code",
   "execution_count": null,
   "metadata": {},
   "outputs": [],
   "source": [
    "json_url = urlopen(\n",
    "    \"https://renderdemointernal.mbnd.eu/chartserver/documentinfo?path=macrobond://macrobondfilestore/macrobond/filestore/2.%20Publications/Archive/Charts%20of%20the%20week/2023/01%20January/13th/US%20homesales%20tightening.mbnd\"\n",
    ")\n",
    "data = json.loads(json_url.read())\n",
    "pd.DataFrame(data)"
   ]
  },
  {
   "cell_type": "markdown",
   "metadata": {},
   "source": [
    "We can now select which document we wish to render."
   ]
  },
  {
   "cell_type": "markdown",
   "metadata": {},
   "source": [
    "***\n",
    "\n",
    "## Render a document\n",
    "The `renderpath` operation renders a Macrobond document posted as XML. \n"
   ]
  },
  {
   "cell_type": "markdown",
   "metadata": {},
   "source": [
    "### Render Charts\n",
    "\n",
    "You can decide which chart to be rendered should your document contain multiple charts, by specifying the presentation id in the document info.\n",
    "\n",
    "For example, the two charts below are fetched from the same document which path is in the last section. \n",
    "\n",
    "\n",
    "We sepecify the id of the wanted chart with parameter **presentation**."
   ]
  },
  {
   "cell_type": "code",
   "execution_count": null,
   "metadata": {},
   "outputs": [],
   "source": [
    "chart = urlopen(\n",
    "    \"https://renderdemointernal.mbnd.eu/chartserver/renderpath?path=macrobond://macrobondfilestore/macrobond/filestore/2.%20Publications/Archive/Charts%20of%20the%20week/2023/01%20January/13th/US%20homesales%20tightening.mbnd&presentation=9ba2cf6e-9767-4d37-ad87-8300e360955f&width=800&height=600&format=png&dpi=96\"\n",
    ")\n",
    "img = Image.open(BytesIO(chart.read()))\n",
    "img"
   ]
  },
  {
   "cell_type": "markdown",
   "metadata": {},
   "source": [
    "### Render Animated Charts\n",
    "\n",
    "This endpoint can also render the chart as an animated svg file (requires Chart Server version 1.28 or later), \n",
    "* format=svg\n",
    "* useAnimation=true\n",
    "\n",
    "Optional:\n",
    "* defaultAnimationDuration: set the duration of your animated chart, in seconds\n",
    "* defaultAnimationDelay: set the delay of your animation, in seconds"
   ]
  },
  {
   "cell_type": "code",
   "execution_count": null,
   "metadata": {},
   "outputs": [],
   "source": [
    "from IPython.display import HTML\n",
    "\n",
    "chart = urlopen(\n",
    "    \"https://renderdemointernal.mbnd.eu/chartserver/renderpath?path=macrobond://macrobondfilestore/macrobond/filestore/2.%20Publications/Archive/Charts%20of%20the%20week/2023/01%20January/13th/US%20homesales%20tightening.mbnd&presentation=9ba2cf6e-9767-4d37-ad87-8300e360955f&width=800&height=600&format=svg&dpi=96&useAnimation=true&defaultAnimationDuration=2&defaultAnimationDelay=0.5\"\n",
    ")\n",
    "\n",
    "display(HTML(chart.read().decode(\"utf-8\")))"
   ]
  },
  {
   "cell_type": "markdown",
   "metadata": {},
   "source": [
    "***\n",
    "\n",
    "## Search files\n",
    "The `searchfiles` returns list of files containing given search-string, located in specified directory and its direct and indirect sub-folders. Output is in JSON format. \n"
   ]
  },
  {
   "cell_type": "markdown",
   "metadata": {},
   "source": [
    "In the example below, we will look for a chart contained in a document called **'Los Angeles - United States Port traffic'**, located into the Macrobond's Chart Library.\n",
    "As per the **Listing the directories** section in this notebook, we know that the path for this folder is: macrobond://macrobondfilestore/macrobond.\n",
    "\n",
    "If you wanted to look for a chart located in your Company directory, you would use path = macrobond://remotepublicfilestore/common/filestore/\t\n",
    "\n",
    "**Remember to use UTF-8 encoding for the charts you are looking for in the &query part of the URL**"
   ]
  },
  {
   "cell_type": "code",
   "execution_count": null,
   "metadata": {},
   "outputs": [],
   "source": [
    "json_url = urlopen(\n",
    "    \"https://renderdemointernal.mbnd.eu/chartserver/searchfiles?path=macrobond://macrobondfilestore/macrobond/&skipThumbnails=true&ext=.mbnd&query=Los%20Angeles%20-%20United%20States%20Port%20traffic\"\n",
    ")\n",
    "data = json.loads(json_url.read())\n",
    "\n",
    "df3 = pd.DataFrame(data)\n",
    "df3"
   ]
  },
  {
   "cell_type": "markdown",
   "metadata": {},
   "source": [
    "You can now use the Path returned by the previous response to render the chart contained in this document, as explained in section **'Render a document'**."
   ]
  },
  {
   "cell_type": "code",
   "execution_count": null,
   "metadata": {},
   "outputs": [],
   "source": [
    "chart2 = urlopen(\n",
    "    \"https://renderdemointernal.mbnd.eu/chartserver/renderpath?path={}&width=800&height=600&format=png&dpi=96\".format(df3.iloc[0][\"Path\"])\n",
    ")\n",
    "img2 = Image.open(BytesIO(chart2.read()))\n",
    "img2"
   ]
  },
  {
   "attachments": {},
   "cell_type": "markdown",
   "metadata": {},
   "source": [
    "***\n",
    "\n",
    "### Document Metadata\n",
    "\n",
    "The `filemeta` endpoint returns several metadata attributes of the document you have selected, including:\n",
    "\n",
    "1. **Timeseries Name**: primname of the timeseries used in the document.\n",
    "\n",
    "2. **Primary Chart Comment**: The comment associated with the primary chart of the document. If the document has multiple charts, each chart's comment can be found using the `documentinfo` endpoint.\n",
    "\n",
    "3. **Account Information**:\n",
    "   - **Created By**: the Macrobond user account who created the document\n",
    "   - **Last Saved By**: the Macrobond user account who last saved the document\n",
    "\n",
    "For more information on the document's creation and last modification time stamps, please refer to the `listfiles` or `searchfiles` endpoints."
   ]
  },
  {
   "attachments": {},
   "cell_type": "markdown",
   "metadata": {},
   "source": [
    "In the example below, we will only display \"SeriesNames\" which contains the raw timeseries alias called into the document and \"SeriesPrimaryNames\" which returns the underlying Macrobond primary name of the time series used. Note that this function excludes the potential calculations you may have used when creating your document."
   ]
  },
  {
   "cell_type": "code",
   "execution_count": null,
   "metadata": {},
   "outputs": [],
   "source": [
    "json_url = urlopen(\n",
    "    \"https://renderdemointernal.mbnd.eu/chartserver/filemeta?path=macrobond://macrobondfilestore/macrobond/filestore/2.%20Publications/Archive/Charts%20of%20the%20week/2023/01%20January/13th/US%20GDP%20Nowcast.mbnd\"\n",
    ")\n",
    "metadata = json.loads(json_url.read())\n",
    "metadata_df = pd.DataFrame(metadata)\n",
    "metadata_df[[\"SeriesNames\", \"SeriesPrimaryNames\"]]"
   ]
  },
  {
   "attachments": {},
   "cell_type": "markdown",
   "metadata": {},
   "source": [
    "If our document's primary chart contains comments, the comment is in format of UTF8 accepting multi-line text, including XML/JSON.\n",
    "\n",
    "You can call this section below:"
   ]
  },
  {
   "cell_type": "code",
   "execution_count": null,
   "metadata": {},
   "outputs": [],
   "source": [
    "metadata[\"Comment\"]"
   ]
  },
  {
   "cell_type": "markdown",
   "metadata": {},
   "source": [
    "***\n",
    "\n",
    "### Document Data\n",
    "\n",
    "Apart from the metadata above, for users with license of Chart Server with data access, the `calculatepath` endpoint allows you to retrieve the data of underlying chart, including:\n",
    "\n",
    "1. **title**: the chart's title and its font details\n",
    "\n",
    "2. **xAxis**: the x-axis' data, including the values on x-axis and its font details, etc.\n",
    "\n",
    "3. **panes**: details of the panes, including the y-axis' data and graph's values\n",
    "\n",
    "4. And other chart related setting details such as border, background, etc."
   ]
  },
  {
   "cell_type": "code",
   "execution_count": null,
   "metadata": {},
   "outputs": [],
   "source": [
    "json_url = urlopen(\n",
    "    \"http://localhost:8088/chartserver/calculatepath?path=macrobond://remotelibraryfilestore/library/filestore/3.%20Feature%20Examples/Analyses/Aggregate/Aggregate%20by%20fiscal%20year.mbnd\"\n",
    ")\n",
    "metadata = json.loads(json_url.read())\n",
    "metadata.keys()"
   ]
  },
  {
   "cell_type": "markdown",
   "metadata": {},
   "source": [
    "If one document contains multiple charts, you need to specify the presentation id in the URL to retrieve the data of the chart you want."
   ]
  },
  {
   "cell_type": "code",
   "execution_count": null,
   "metadata": {},
   "outputs": [],
   "source": [
    "json_url = urlopen(\n",
    "    \"http://localhost:8088/chartserver/calculatepath?path=macrobond://macrobondfilestore/macrobond/filestore/2.%20Publications/Archive/Charts%20of%20the%20week/2023/01%20January/13th/US%20homesales%20tightening.mbnd&presentation=9ba2cf6e-9767-4d37-ad87-8300e360955f\"\n",
    ")\n",
    "data = json.loads(json_url.read())\n",
    "data.keys()"
   ]
  },
  {
   "cell_type": "code",
   "execution_count": null,
   "metadata": {},
   "outputs": [],
   "source": [
    "json_url = urlopen(\n",
    "    \"http://localhost:8088/chartserver/calculatepath?path=macrobond://macrobondfilestore/macrobond/filestore/2.%20Publications/Archive/Charts%20of%20the%20week/2023/01%20January/13th/US%20homesales%20tightening.mbnd&presentation=9ba2cf6e-9767-4d37-ad87-8300e360955f\"\n",
    ")\n",
    "metadata = json.loads(json_url.read())\n",
    "metadata[\"title\"]"
   ]
  },
  {
   "cell_type": "markdown",
   "metadata": {},
   "source": [
    "You can use the data in charts to rebuild the chart as you wish, or use it for further analysis."
   ]
  },
  {
   "cell_type": "code",
   "execution_count": null,
   "metadata": {},
   "outputs": [],
   "source": [
    "pd.DataFrame(\n",
    "    {\n",
    "        \"dates\": [pd.to_datetime(i) for i in metadata[\"xAxis\"][\"observationDates\"]],\n",
    "        \"value\": metadata[\"panes\"][0][\"graphGroups\"][0][\"graphs\"][0][\"observations\"],\n",
    "    }\n",
    ").plot(x=\"dates\", y=\"value\", title=metadata[\"title\"][\"text\"])"
   ]
  }
 ],
 "metadata": {
  "kernelspec": {
   "display_name": ".venv",
   "language": "python",
   "name": "python3"
  },
  "language_info": {
   "codemirror_mode": {
    "name": "ipython",
    "version": 3
   },
   "file_extension": ".py",
   "mimetype": "text/x-python",
   "name": "python",
   "nbconvert_exporter": "python",
   "pygments_lexer": "ipython3",
   "version": "3.13.0"
  }
 },
 "nbformat": 4,
 "nbformat_minor": 2
}
