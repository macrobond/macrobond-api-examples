{
 "cells": [
  {
   "attachments": {},
   "cell_type": "markdown",
   "metadata": {},
   "source": [
    "# 4.1 - Macrobond Data API for Python - Revision History\n",
    "\n",
    "*Using Macrobond Data API for Python to query one or more time series in a point-in-time fashion. Revision history is defined as the feature allowing to request the original values of a time series before it could have been revised by the source. The vintageTimeStamp provides the point-in-time stamp as of which the series was known to have the values retrieved. This time stamp corresponds to when Macrobond has made the data available in its database.*\n",
    "\n",
    "This notebook aims to provide examples of how to use methods from Macrobond Data API for Python to work with Revision History.\n",
    "\n",
    "We will focus on using various calls from observing whether a time series carries Revision History up to requesting the full array of historical revisions.\n",
    "\n",
    "You can find a full description of all methods and parameters used in the examples in the [documentation of the API](https://macrobond.github.io/macrobond-data-api/common/api.html).\n",
    "\n",
    "*The examples uses the common functions of Macrobond API. Full error handling is omitted for brevity*"
   ]
  },
  {
   "attachments": {},
   "cell_type": "markdown",
   "metadata": {},
   "source": [
    "***\n",
    "\n",
    "## Importing packages"
   ]
  },
  {
   "cell_type": "code",
   "execution_count": 0,
   "metadata": {},
   "outputs": [],
   "source": [
    "import macrobond_data_api as mda\n",
    "from macrobond_data_api.common.types import RevisionHistoryRequest\n",
    "\n",
    "import pandas as pd\n",
    "from datetime import datetime, timezone"
   ]
  },
  {
   "attachments": {},
   "cell_type": "markdown",
   "metadata": {},
   "source": [
    "***\n",
    "\n",
    "## Get the data - get_revision_info\n",
    "\n",
    "get_revision_info provides high level information whether the time series store Revision History and had Revisions yet or not. The output also provides the list of vintageTimeStamps for series carrying Revision History."
   ]
  },
  {
   "attachments": {},
   "cell_type": "markdown",
   "metadata": {},
   "source": [
    "In the example below, we are using time series uslama4760:\n",
    "\n",
    "> `United States, Employment, Payroll, Nonfarm, Payroll, Total (1-Month Net Change), SA`"
   ]
  },
  {
   "cell_type": "code",
   "execution_count": null,
   "metadata": {},
   "outputs": [],
   "source": [
    "data_frame = mda.get_revision_info(\"uslama4760\")[0].to_pd_data_frame()\n",
    "data_frame.groupby(data_frame.columns.to_list()[:-2])[\"vintage_time_stamps\"].agg(\n",
    "    list\n",
    ").reset_index()"
   ]
  },
  {
   "attachments": {},
   "cell_type": "markdown",
   "metadata": {},
   "source": [
    "Our time series is enabled to store Revision History and already had revisions.\n",
    "Let's now observe all available vintages. Note that we are printing the last 5 values here."
   ]
  },
  {
   "cell_type": "code",
   "execution_count": null,
   "metadata": {},
   "outputs": [],
   "source": [
    "data_frame[[\"vintage_time_stamps\"]].tail()"
   ]
  },
  {
   "attachments": {},
   "cell_type": "markdown",
   "metadata": {},
   "source": [
    "***\n",
    "\n",
    "## Get the data - get_observation_history\n",
    "\n",
    "get_observation_history finds the various revisions a specific observation 'observationDate' has had over time. The historical revisions are provided with their respective dates of integration 'timeStamps'."
   ]
  },
  {
   "cell_type": "code",
   "execution_count": null,
   "metadata": {
    "tags": []
   },
   "outputs": [],
   "source": [
    "history_observation = mda.get_observation_history(\n",
    "    \"uslama4760\", pd.to_datetime(\"2022-07-01\")\n",
    ")[0].to_pd_data_frame()\n",
    "history_observation"
   ]
  },
  {
   "cell_type": "code",
   "execution_count": null,
   "metadata": {},
   "outputs": [],
   "source": [
    "print(\n",
    "    \"Observation date:\",\n",
    "    mda.get_observation_history(\"uslama4760\", pd.to_datetime(\"2022-07-01\"))[\n",
    "        0\n",
    "    ].to_dict()[\"ObservationDate\"],\n",
    ")"
   ]
  },
  {
   "attachments": {},
   "cell_type": "markdown",
   "metadata": {},
   "source": [
    "Let's measure the time difference from the first publication to the last revision:"
   ]
  },
  {
   "cell_type": "code",
   "execution_count": null,
   "metadata": {},
   "outputs": [],
   "source": [
    "history_observation.index = pd.to_datetime(history_observation.index)\n",
    "history_observation.index.max() - history_observation.index.min()"
   ]
  },
  {
   "attachments": {},
   "cell_type": "markdown",
   "metadata": {},
   "source": [
    "***\n",
    "\n",
    "## Get the data - get_nth_release\n",
    "\n",
    "get_nth_release retrieves the nth change of each observation of the requested time series. This can be particularly useful to observe patterns of revisions from a single source or on a unique concept across various regions. Specifying the parameter as 0 will give you the unrevised data."
   ]
  },
  {
   "cell_type": "code",
   "execution_count": null,
   "metadata": {},
   "outputs": [],
   "source": [
    "# We are fetching here the first revision (n=1) for each observation of our time series. You can set n=0 for unrevised data i.e. initial releases.\n",
    "nth_release = pd.DataFrame(\n",
    "    mda.get_nth_release(1, [\"uslama4760\"], include_times_of_change=True)[0].to_dict(),\n",
    "    columns=[\"Dates\", \"Values\"],\n",
    ")\n",
    "nth_release"
   ]
  },
  {
   "attachments": {},
   "cell_type": "markdown",
   "metadata": {},
   "source": [
    "We can add timesOfChange to get the time each value was modified. As we are fetching the first revision for each observation, let's bear in mind that the very first vintage recorded for this series was on 2016-03-31 i.e. there was no revision recorded before that hence we can expect to see no timesOfChange nor values prior to this date."
   ]
  },
  {
   "cell_type": "code",
   "execution_count": null,
   "metadata": {},
   "outputs": [],
   "source": [
    "time_of_change = pd.DataFrame(\n",
    "    mda.get_nth_release(1, [\"uslama4760\"], include_times_of_change=True)[\n",
    "        0\n",
    "    ].values_metadata\n",
    ")  # values_metadata stands for the time of change/revision time stamp of the underlying value\n",
    "nth_release = pd.merge(nth_release, time_of_change, left_index=True, right_index=True)\n",
    "nth_release"
   ]
  },
  {
   "attachments": {},
   "cell_type": "markdown",
   "metadata": {},
   "source": [
    "***\n",
    "\n",
    "## Get the data - get_vintage_series"
   ]
  },
  {
   "cell_type": "code",
   "execution_count": null,
   "metadata": {},
   "outputs": [],
   "source": [
    "from dateutil.tz import tzutc\n",
    "\n",
    "vintage_data = mda.get_vintage_series(\n",
    "    datetime(2023, 1, 6, 13, 30, tzinfo=tzutc()),\n",
    "    [\"uslama4760\"],\n",
    "    include_times_of_change=True,\n",
    ")[0]\n",
    "\n",
    "vintage_series = pd.DataFrame(vintage_data.to_dict(), columns=[\"Dates\", \"Values\"])\n",
    "time_of_change = pd.DataFrame(vintage_data.values_metadata)\n",
    "vintage_series = pd.merge(\n",
    "    vintage_series, time_of_change, left_index=True, right_index=True\n",
    ")\n",
    "vintage_series"
   ]
  },
  {
   "cell_type": "code",
   "execution_count": null,
   "metadata": {},
   "outputs": [],
   "source": [
    "print(\n",
    "    \"Observation as of\",\n",
    "    mda.get_vintage_series(\n",
    "        datetime(2023, 1, 6, 13, 30, tzinfo=tzutc()),\n",
    "        [\"uslama4760\"],\n",
    "        include_times_of_change=True,\n",
    "    )[0].revision_time_stamp,\n",
    ")"
   ]
  },
  {
   "attachments": {},
   "cell_type": "markdown",
   "metadata": {},
   "source": [
    "***\n",
    "\n",
    "## Get the data - get_all_vintage_series\n",
    "\n",
    "get_all_vintage_series retrieves the full array of revisions over time for the requested time series.\n",
    "We can build a dataframe of such revisions. "
   ]
  },
  {
   "cell_type": "code",
   "execution_count": null,
   "metadata": {},
   "outputs": [],
   "source": [
    "mda.get_all_vintage_series(\"gbcpi\")"
   ]
  },
  {
   "attachments": {},
   "cell_type": "markdown",
   "metadata": {},
   "source": [
    "***\n",
    "\n",
    "## Get the data - get_many_series_with_revisions\n",
    "\n",
    "Thanks to the get_many_series_with_revisions, we can request incremental updates and keep in sync with the Macrobond's database."
   ]
  },
  {
   "attachments": {},
   "cell_type": "markdown",
   "metadata": {},
   "source": [
    "Our typical workflow starts with downloading the full array of revisions for your universe. Once you have built the history, you can keep your database in sync with ours by requesting incremental updates only i.e. new vintages thanks to the various time stamps of the previous download.\n",
    "\n",
    "Let's take the example of time series `depric1312` where:\n",
    "\n",
    "> `if_modified_since` = 2021-11-15T00:00:50+00:00\n",
    "\n",
    "> `last_revision` = 2021-10-28T15:53:57.1091028Z"
   ]
  },
  {
   "cell_type": "code",
   "execution_count": null,
   "metadata": {},
   "outputs": [],
   "source": [
    "for i in mda.get_many_series_with_revisions(\n",
    "    [\n",
    "        RevisionHistoryRequest(\n",
    "            \"depric1312\",\n",
    "            if_modified_since=datetime(2021, 11, 15, 00, 00, 50, tzinfo=timezone.utc),\n",
    "            last_revision=datetime(2021, 10, 28, 15, 53, 57, tzinfo=timezone.utc),\n",
    "        )\n",
    "    ]\n",
    "):\n",
    "    if i.status_code:\n",
    "        print(\n",
    "            \"PARTIAL_CONTENT will be returned if last_revision is being specified and earlier than current LastRevisionTimeStamp:\"\n",
    "        )\n",
    "        print(i.status_code, i.error_text)\n",
    "        dataframe_all = pd.DataFrame(i.vintages)"
   ]
  },
  {
   "cell_type": "code",
   "execution_count": null,
   "metadata": {},
   "outputs": [],
   "source": [
    "dataframe_all"
   ]
  },
  {
   "cell_type": "code",
   "execution_count": null,
   "metadata": {},
   "outputs": [],
   "source": [
    "dataframe_all.explode([\"dates\", \"values\"]).pivot_table(\n",
    "    index=\"dates\", columns=\"vintage_time_stamp\", values=\"values\"\n",
    ")"
   ]
  },
  {
   "cell_type": "markdown",
   "metadata": {},
   "source": [
    "Please note that if there is LastRevisionAdjustmentTimeStamp  metadata in the underlying time series, then the parameter last_revision_adjustment has to be specified as the LastRevisionAdjustmentTimeStamp from last return (and last_revision should not be earlier than LastRevisionAdjustmentTimeStamp), in order to get partial return. "
   ]
  }
 ],
 "metadata": {
  "kernelspec": {
   "display_name": ".venv",
   "language": "python",
   "name": "python3"
  },
  "language_info": {
   "codemirror_mode": {
    "name": "ipython",
    "version": 3
   },
   "file_extension": ".py",
   "mimetype": "text/x-python",
   "name": "python",
   "nbconvert_exporter": "python",
   "pygments_lexer": "ipython3",
   "version": "3.12.7"
  }
 },
 "nbformat": 4,
 "nbformat_minor": 2
}
